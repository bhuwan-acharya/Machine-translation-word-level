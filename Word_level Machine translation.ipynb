{
 "cells": [
  {
   "cell_type": "code",
   "execution_count": 34,
   "metadata": {},
   "outputs": [],
   "source": [
    "import pandas as pd\n",
    "import numpy as np\n",
    "import string\n",
    "from string import digits\n",
    "import re\n",
    "from sklearn.utils import shuffle\n",
    "from sklearn.model_selection import train_test_split\n",
    "from keras.layers import Input, LSTM, Embedding, Dense\n",
    "from keras.models import Model"
   ]
  },
  {
   "cell_type": "code",
   "execution_count": 35,
   "metadata": {},
   "outputs": [],
   "source": [
    "lines= pd.read_table('deu-eng/deu.txt', names=['eng', 'de'], index_col=False)"
   ]
  },
  {
   "cell_type": "code",
   "execution_count": 36,
   "metadata": {},
   "outputs": [
    {
     "data": {
      "text/html": [
       "<div>\n",
       "<style scoped>\n",
       "    .dataframe tbody tr th:only-of-type {\n",
       "        vertical-align: middle;\n",
       "    }\n",
       "\n",
       "    .dataframe tbody tr th {\n",
       "        vertical-align: top;\n",
       "    }\n",
       "\n",
       "    .dataframe thead th {\n",
       "        text-align: right;\n",
       "    }\n",
       "</style>\n",
       "<table border=\"1\" class=\"dataframe\">\n",
       "  <thead>\n",
       "    <tr style=\"text-align: right;\">\n",
       "      <th></th>\n",
       "      <th>eng</th>\n",
       "      <th>de</th>\n",
       "    </tr>\n",
       "  </thead>\n",
       "  <tbody>\n",
       "    <tr>\n",
       "      <th>0</th>\n",
       "      <td>Go.</td>\n",
       "      <td>Geh.</td>\n",
       "    </tr>\n",
       "    <tr>\n",
       "      <th>1</th>\n",
       "      <td>Hi.</td>\n",
       "      <td>Hallo!</td>\n",
       "    </tr>\n",
       "    <tr>\n",
       "      <th>2</th>\n",
       "      <td>Hi.</td>\n",
       "      <td>Grüß Gott!</td>\n",
       "    </tr>\n",
       "    <tr>\n",
       "      <th>3</th>\n",
       "      <td>Run!</td>\n",
       "      <td>Lauf!</td>\n",
       "    </tr>\n",
       "    <tr>\n",
       "      <th>4</th>\n",
       "      <td>Run.</td>\n",
       "      <td>Lauf!</td>\n",
       "    </tr>\n",
       "    <tr>\n",
       "      <th>...</th>\n",
       "      <td>...</td>\n",
       "      <td>...</td>\n",
       "    </tr>\n",
       "    <tr>\n",
       "      <th>224415</th>\n",
       "      <td>Even if some sentences by non-native speakers ...</td>\n",
       "      <td>Auch wenn Sätze von Nichtmuttersprachlern mitu...</td>\n",
       "    </tr>\n",
       "    <tr>\n",
       "      <th>224416</th>\n",
       "      <td>If someone who doesn't know your background sa...</td>\n",
       "      <td>Wenn jemand, der deine Herkunft nicht kennt, s...</td>\n",
       "    </tr>\n",
       "    <tr>\n",
       "      <th>224417</th>\n",
       "      <td>If someone who doesn't know your background sa...</td>\n",
       "      <td>Wenn jemand Fremdes dir sagt, dass du dich wie...</td>\n",
       "    </tr>\n",
       "    <tr>\n",
       "      <th>224418</th>\n",
       "      <td>If someone who doesn't know your background sa...</td>\n",
       "      <td>Wenn jemand, der nicht weiß, woher man kommt, ...</td>\n",
       "    </tr>\n",
       "    <tr>\n",
       "      <th>224419</th>\n",
       "      <td>Doubtless there exists in this world precisely...</td>\n",
       "      <td>Ohne Zweifel findet sich auf dieser Welt zu je...</td>\n",
       "    </tr>\n",
       "  </tbody>\n",
       "</table>\n",
       "<p>224420 rows × 2 columns</p>\n",
       "</div>"
      ],
      "text/plain": [
       "                                                      eng  \\\n",
       "0                                                     Go.   \n",
       "1                                                     Hi.   \n",
       "2                                                     Hi.   \n",
       "3                                                    Run!   \n",
       "4                                                    Run.   \n",
       "...                                                   ...   \n",
       "224415  Even if some sentences by non-native speakers ...   \n",
       "224416  If someone who doesn't know your background sa...   \n",
       "224417  If someone who doesn't know your background sa...   \n",
       "224418  If someone who doesn't know your background sa...   \n",
       "224419  Doubtless there exists in this world precisely...   \n",
       "\n",
       "                                                       de  \n",
       "0                                                    Geh.  \n",
       "1                                                  Hallo!  \n",
       "2                                              Grüß Gott!  \n",
       "3                                                   Lauf!  \n",
       "4                                                   Lauf!  \n",
       "...                                                   ...  \n",
       "224415  Auch wenn Sätze von Nichtmuttersprachlern mitu...  \n",
       "224416  Wenn jemand, der deine Herkunft nicht kennt, s...  \n",
       "224417  Wenn jemand Fremdes dir sagt, dass du dich wie...  \n",
       "224418  Wenn jemand, der nicht weiß, woher man kommt, ...  \n",
       "224419  Ohne Zweifel findet sich auf dieser Welt zu je...  \n",
       "\n",
       "[224420 rows x 2 columns]"
      ]
     },
     "execution_count": 36,
     "metadata": {},
     "output_type": "execute_result"
    }
   ],
   "source": [
    "lines"
   ]
  },
  {
   "cell_type": "code",
   "execution_count": 37,
   "metadata": {},
   "outputs": [],
   "source": [
    "lines = lines[:10000]"
   ]
  },
  {
   "cell_type": "code",
   "execution_count": 38,
   "metadata": {},
   "outputs": [
    {
     "name": "stderr",
     "output_type": "stream",
     "text": [
      "C:\\Users\\bhuwa\\anaconda3\\lib\\site-packages\\pandas\\core\\generic.py:5303: SettingWithCopyWarning: \n",
      "A value is trying to be set on a copy of a slice from a DataFrame.\n",
      "Try using .loc[row_indexer,col_indexer] = value instead\n",
      "\n",
      "See the caveats in the documentation: https://pandas.pydata.org/pandas-docs/stable/user_guide/indexing.html#returning-a-view-versus-a-copy\n",
      "  self[name] = value\n",
      "<ipython-input-38-22cd0f3e3ccd>:3: UserWarning: Pandas doesn't allow columns to be created via a new attribute name - see https://pandas.pydata.org/pandas-docs/stable/indexing.html#attribute-access\n",
      "  lines.deu = lines.de.apply(lambda x:x.lower())\n"
     ]
    }
   ],
   "source": [
    "# Lowering all the charecters\n",
    "lines.eng = lines.eng.apply(lambda x:x.lower())\n",
    "lines.deu = lines.de.apply(lambda x:x.lower())"
   ]
  },
  {
   "cell_type": "code",
   "execution_count": 39,
   "metadata": {},
   "outputs": [
    {
     "data": {
      "text/html": [
       "<div>\n",
       "<style scoped>\n",
       "    .dataframe tbody tr th:only-of-type {\n",
       "        vertical-align: middle;\n",
       "    }\n",
       "\n",
       "    .dataframe tbody tr th {\n",
       "        vertical-align: top;\n",
       "    }\n",
       "\n",
       "    .dataframe thead th {\n",
       "        text-align: right;\n",
       "    }\n",
       "</style>\n",
       "<table border=\"1\" class=\"dataframe\">\n",
       "  <thead>\n",
       "    <tr style=\"text-align: right;\">\n",
       "      <th></th>\n",
       "      <th>eng</th>\n",
       "      <th>de</th>\n",
       "    </tr>\n",
       "  </thead>\n",
       "  <tbody>\n",
       "    <tr>\n",
       "      <th>0</th>\n",
       "      <td>go.</td>\n",
       "      <td>Geh.</td>\n",
       "    </tr>\n",
       "    <tr>\n",
       "      <th>1</th>\n",
       "      <td>hi.</td>\n",
       "      <td>Hallo!</td>\n",
       "    </tr>\n",
       "    <tr>\n",
       "      <th>2</th>\n",
       "      <td>hi.</td>\n",
       "      <td>Grüß Gott!</td>\n",
       "    </tr>\n",
       "    <tr>\n",
       "      <th>3</th>\n",
       "      <td>run!</td>\n",
       "      <td>Lauf!</td>\n",
       "    </tr>\n",
       "    <tr>\n",
       "      <th>4</th>\n",
       "      <td>run.</td>\n",
       "      <td>Lauf!</td>\n",
       "    </tr>\n",
       "    <tr>\n",
       "      <th>...</th>\n",
       "      <td>...</td>\n",
       "      <td>...</td>\n",
       "    </tr>\n",
       "    <tr>\n",
       "      <th>9995</th>\n",
       "      <td>tom smelled it.</td>\n",
       "      <td>Tom hat das gerochen.</td>\n",
       "    </tr>\n",
       "    <tr>\n",
       "      <th>9996</th>\n",
       "      <td>tom smells bad.</td>\n",
       "      <td>Tom riecht schlecht.</td>\n",
       "    </tr>\n",
       "    <tr>\n",
       "      <th>9997</th>\n",
       "      <td>tom sounds mad.</td>\n",
       "      <td>Tom klingt verrückt.</td>\n",
       "    </tr>\n",
       "    <tr>\n",
       "      <th>9998</th>\n",
       "      <td>tom sounds sad.</td>\n",
       "      <td>Tom klingt traurig.</td>\n",
       "    </tr>\n",
       "    <tr>\n",
       "      <th>9999</th>\n",
       "      <td>tom stabbed me.</td>\n",
       "      <td>Tom hat mich gestochen.</td>\n",
       "    </tr>\n",
       "  </tbody>\n",
       "</table>\n",
       "<p>10000 rows × 2 columns</p>\n",
       "</div>"
      ],
      "text/plain": [
       "                  eng                       de\n",
       "0                 go.                     Geh.\n",
       "1                 hi.                   Hallo!\n",
       "2                 hi.               Grüß Gott!\n",
       "3                run!                    Lauf!\n",
       "4                run.                    Lauf!\n",
       "...               ...                      ...\n",
       "9995  tom smelled it.    Tom hat das gerochen.\n",
       "9996  tom smells bad.     Tom riecht schlecht.\n",
       "9997  tom sounds mad.     Tom klingt verrückt.\n",
       "9998  tom sounds sad.      Tom klingt traurig.\n",
       "9999  tom stabbed me.  Tom hat mich gestochen.\n",
       "\n",
       "[10000 rows x 2 columns]"
      ]
     },
     "execution_count": 39,
     "metadata": {},
     "output_type": "execute_result"
    }
   ],
   "source": [
    "lines"
   ]
  },
  {
   "cell_type": "code",
   "execution_count": 40,
   "metadata": {},
   "outputs": [
    {
     "name": "stderr",
     "output_type": "stream",
     "text": [
      "C:\\Users\\bhuwa\\anaconda3\\lib\\site-packages\\pandas\\core\\generic.py:5303: SettingWithCopyWarning: \n",
      "A value is trying to be set on a copy of a slice from a DataFrame.\n",
      "Try using .loc[row_indexer,col_indexer] = value instead\n",
      "\n",
      "See the caveats in the documentation: https://pandas.pydata.org/pandas-docs/stable/user_guide/indexing.html#returning-a-view-versus-a-copy\n",
      "  self[name] = value\n"
     ]
    }
   ],
   "source": [
    "#Remove Quotes\n",
    "lines.eng = lines.eng.apply(lambda x: re.sub(\"'\",'',x))\n",
    "lines.de = lines.de.apply(lambda x: re.sub(\"'\",'',x))"
   ]
  },
  {
   "cell_type": "code",
   "execution_count": 41,
   "metadata": {},
   "outputs": [],
   "source": [
    "exclude = set(string.punctuation) #Set of all the special charecters\n",
    "# Removing all the string\n",
    "lines.eng = lines.eng.apply(lambda x:''.join(ch for ch in x if ch not in exclude))\n",
    "lines.de = lines.de.apply(lambda x:''.join(ch for ch in x if ch not in exclude))"
   ]
  },
  {
   "cell_type": "code",
   "execution_count": 42,
   "metadata": {},
   "outputs": [
    {
     "data": {
      "text/html": [
       "<div>\n",
       "<style scoped>\n",
       "    .dataframe tbody tr th:only-of-type {\n",
       "        vertical-align: middle;\n",
       "    }\n",
       "\n",
       "    .dataframe tbody tr th {\n",
       "        vertical-align: top;\n",
       "    }\n",
       "\n",
       "    .dataframe thead th {\n",
       "        text-align: right;\n",
       "    }\n",
       "</style>\n",
       "<table border=\"1\" class=\"dataframe\">\n",
       "  <thead>\n",
       "    <tr style=\"text-align: right;\">\n",
       "      <th></th>\n",
       "      <th>eng</th>\n",
       "      <th>de</th>\n",
       "    </tr>\n",
       "  </thead>\n",
       "  <tbody>\n",
       "    <tr>\n",
       "      <th>0</th>\n",
       "      <td>go</td>\n",
       "      <td>Geh</td>\n",
       "    </tr>\n",
       "    <tr>\n",
       "      <th>1</th>\n",
       "      <td>hi</td>\n",
       "      <td>Hallo</td>\n",
       "    </tr>\n",
       "    <tr>\n",
       "      <th>2</th>\n",
       "      <td>hi</td>\n",
       "      <td>Grüß Gott</td>\n",
       "    </tr>\n",
       "    <tr>\n",
       "      <th>3</th>\n",
       "      <td>run</td>\n",
       "      <td>Lauf</td>\n",
       "    </tr>\n",
       "    <tr>\n",
       "      <th>4</th>\n",
       "      <td>run</td>\n",
       "      <td>Lauf</td>\n",
       "    </tr>\n",
       "    <tr>\n",
       "      <th>...</th>\n",
       "      <td>...</td>\n",
       "      <td>...</td>\n",
       "    </tr>\n",
       "    <tr>\n",
       "      <th>9995</th>\n",
       "      <td>tom smelled it</td>\n",
       "      <td>Tom hat das gerochen</td>\n",
       "    </tr>\n",
       "    <tr>\n",
       "      <th>9996</th>\n",
       "      <td>tom smells bad</td>\n",
       "      <td>Tom riecht schlecht</td>\n",
       "    </tr>\n",
       "    <tr>\n",
       "      <th>9997</th>\n",
       "      <td>tom sounds mad</td>\n",
       "      <td>Tom klingt verrückt</td>\n",
       "    </tr>\n",
       "    <tr>\n",
       "      <th>9998</th>\n",
       "      <td>tom sounds sad</td>\n",
       "      <td>Tom klingt traurig</td>\n",
       "    </tr>\n",
       "    <tr>\n",
       "      <th>9999</th>\n",
       "      <td>tom stabbed me</td>\n",
       "      <td>Tom hat mich gestochen</td>\n",
       "    </tr>\n",
       "  </tbody>\n",
       "</table>\n",
       "<p>10000 rows × 2 columns</p>\n",
       "</div>"
      ],
      "text/plain": [
       "                 eng                      de\n",
       "0                 go                     Geh\n",
       "1                 hi                   Hallo\n",
       "2                 hi               Grüß Gott\n",
       "3                run                    Lauf\n",
       "4                run                    Lauf\n",
       "...              ...                     ...\n",
       "9995  tom smelled it    Tom hat das gerochen\n",
       "9996  tom smells bad     Tom riecht schlecht\n",
       "9997  tom sounds mad     Tom klingt verrückt\n",
       "9998  tom sounds sad      Tom klingt traurig\n",
       "9999  tom stabbed me  Tom hat mich gestochen\n",
       "\n",
       "[10000 rows x 2 columns]"
      ]
     },
     "execution_count": 42,
     "metadata": {},
     "output_type": "execute_result"
    }
   ],
   "source": [
    "lines"
   ]
  },
  {
   "cell_type": "code",
   "execution_count": 43,
   "metadata": {},
   "outputs": [
    {
     "name": "stderr",
     "output_type": "stream",
     "text": [
      "C:\\Users\\bhuwa\\anaconda3\\lib\\site-packages\\pandas\\core\\generic.py:5303: SettingWithCopyWarning: \n",
      "A value is trying to be set on a copy of a slice from a DataFrame.\n",
      "Try using .loc[row_indexer,col_indexer] = value instead\n",
      "\n",
      "See the caveats in the documentation: https://pandas.pydata.org/pandas-docs/stable/user_guide/indexing.html#returning-a-view-versus-a-copy\n",
      "  self[name] = value\n"
     ]
    }
   ],
   "source": [
    "# Removing all the digits from the text\n",
    "remove_degits = str.maketrans('','',digits)\n",
    "lines.eng = lines.eng.apply(lambda x: x.translate(remove_degits))\n",
    "lines.de = lines.de.apply(lambda x: x.translate(remove_degits))"
   ]
  },
  {
   "cell_type": "code",
   "execution_count": 44,
   "metadata": {},
   "outputs": [
    {
     "data": {
      "text/html": [
       "<div>\n",
       "<style scoped>\n",
       "    .dataframe tbody tr th:only-of-type {\n",
       "        vertical-align: middle;\n",
       "    }\n",
       "\n",
       "    .dataframe tbody tr th {\n",
       "        vertical-align: top;\n",
       "    }\n",
       "\n",
       "    .dataframe thead th {\n",
       "        text-align: right;\n",
       "    }\n",
       "</style>\n",
       "<table border=\"1\" class=\"dataframe\">\n",
       "  <thead>\n",
       "    <tr style=\"text-align: right;\">\n",
       "      <th></th>\n",
       "      <th>eng</th>\n",
       "      <th>de</th>\n",
       "    </tr>\n",
       "  </thead>\n",
       "  <tbody>\n",
       "    <tr>\n",
       "      <th>0</th>\n",
       "      <td>go</td>\n",
       "      <td>Geh</td>\n",
       "    </tr>\n",
       "    <tr>\n",
       "      <th>1</th>\n",
       "      <td>hi</td>\n",
       "      <td>Hallo</td>\n",
       "    </tr>\n",
       "    <tr>\n",
       "      <th>2</th>\n",
       "      <td>hi</td>\n",
       "      <td>Grüß Gott</td>\n",
       "    </tr>\n",
       "    <tr>\n",
       "      <th>3</th>\n",
       "      <td>run</td>\n",
       "      <td>Lauf</td>\n",
       "    </tr>\n",
       "    <tr>\n",
       "      <th>4</th>\n",
       "      <td>run</td>\n",
       "      <td>Lauf</td>\n",
       "    </tr>\n",
       "    <tr>\n",
       "      <th>...</th>\n",
       "      <td>...</td>\n",
       "      <td>...</td>\n",
       "    </tr>\n",
       "    <tr>\n",
       "      <th>9995</th>\n",
       "      <td>tom smelled it</td>\n",
       "      <td>Tom hat das gerochen</td>\n",
       "    </tr>\n",
       "    <tr>\n",
       "      <th>9996</th>\n",
       "      <td>tom smells bad</td>\n",
       "      <td>Tom riecht schlecht</td>\n",
       "    </tr>\n",
       "    <tr>\n",
       "      <th>9997</th>\n",
       "      <td>tom sounds mad</td>\n",
       "      <td>Tom klingt verrückt</td>\n",
       "    </tr>\n",
       "    <tr>\n",
       "      <th>9998</th>\n",
       "      <td>tom sounds sad</td>\n",
       "      <td>Tom klingt traurig</td>\n",
       "    </tr>\n",
       "    <tr>\n",
       "      <th>9999</th>\n",
       "      <td>tom stabbed me</td>\n",
       "      <td>Tom hat mich gestochen</td>\n",
       "    </tr>\n",
       "  </tbody>\n",
       "</table>\n",
       "<p>10000 rows × 2 columns</p>\n",
       "</div>"
      ],
      "text/plain": [
       "                 eng                      de\n",
       "0                 go                     Geh\n",
       "1                 hi                   Hallo\n",
       "2                 hi               Grüß Gott\n",
       "3                run                    Lauf\n",
       "4                run                    Lauf\n",
       "...              ...                     ...\n",
       "9995  tom smelled it    Tom hat das gerochen\n",
       "9996  tom smells bad     Tom riecht schlecht\n",
       "9997  tom sounds mad     Tom klingt verrückt\n",
       "9998  tom sounds sad      Tom klingt traurig\n",
       "9999  tom stabbed me  Tom hat mich gestochen\n",
       "\n",
       "[10000 rows x 2 columns]"
      ]
     },
     "execution_count": 44,
     "metadata": {},
     "output_type": "execute_result"
    }
   ],
   "source": [
    "lines"
   ]
  },
  {
   "cell_type": "code",
   "execution_count": 45,
   "metadata": {},
   "outputs": [
    {
     "name": "stderr",
     "output_type": "stream",
     "text": [
      "C:\\Users\\bhuwa\\anaconda3\\lib\\site-packages\\pandas\\core\\generic.py:5303: SettingWithCopyWarning: \n",
      "A value is trying to be set on a copy of a slice from a DataFrame.\n",
      "Try using .loc[row_indexer,col_indexer] = value instead\n",
      "\n",
      "See the caveats in the documentation: https://pandas.pydata.org/pandas-docs/stable/user_guide/indexing.html#returning-a-view-versus-a-copy\n",
      "  self[name] = value\n"
     ]
    }
   ],
   "source": [
    "# Removing the extra spaces\n",
    "lines.eng = lines.eng.apply(lambda x:x.strip())\n",
    "lines.de = lines.de.apply(lambda x:x.strip())\n",
    "lines.eng = lines.eng.apply(lambda x: re.sub(' +',' ',x))\n",
    "lines.de = lines.de.apply(lambda x: re.sub(' +',' ',x))"
   ]
  },
  {
   "cell_type": "code",
   "execution_count": 46,
   "metadata": {},
   "outputs": [
    {
     "data": {
      "text/html": [
       "<div>\n",
       "<style scoped>\n",
       "    .dataframe tbody tr th:only-of-type {\n",
       "        vertical-align: middle;\n",
       "    }\n",
       "\n",
       "    .dataframe tbody tr th {\n",
       "        vertical-align: top;\n",
       "    }\n",
       "\n",
       "    .dataframe thead th {\n",
       "        text-align: right;\n",
       "    }\n",
       "</style>\n",
       "<table border=\"1\" class=\"dataframe\">\n",
       "  <thead>\n",
       "    <tr style=\"text-align: right;\">\n",
       "      <th></th>\n",
       "      <th>eng</th>\n",
       "      <th>de</th>\n",
       "    </tr>\n",
       "  </thead>\n",
       "  <tbody>\n",
       "    <tr>\n",
       "      <th>0</th>\n",
       "      <td>go</td>\n",
       "      <td>Geh</td>\n",
       "    </tr>\n",
       "    <tr>\n",
       "      <th>1</th>\n",
       "      <td>hi</td>\n",
       "      <td>Hallo</td>\n",
       "    </tr>\n",
       "    <tr>\n",
       "      <th>2</th>\n",
       "      <td>hi</td>\n",
       "      <td>Grüß Gott</td>\n",
       "    </tr>\n",
       "    <tr>\n",
       "      <th>3</th>\n",
       "      <td>run</td>\n",
       "      <td>Lauf</td>\n",
       "    </tr>\n",
       "    <tr>\n",
       "      <th>4</th>\n",
       "      <td>run</td>\n",
       "      <td>Lauf</td>\n",
       "    </tr>\n",
       "    <tr>\n",
       "      <th>...</th>\n",
       "      <td>...</td>\n",
       "      <td>...</td>\n",
       "    </tr>\n",
       "    <tr>\n",
       "      <th>9995</th>\n",
       "      <td>tom smelled it</td>\n",
       "      <td>Tom hat das gerochen</td>\n",
       "    </tr>\n",
       "    <tr>\n",
       "      <th>9996</th>\n",
       "      <td>tom smells bad</td>\n",
       "      <td>Tom riecht schlecht</td>\n",
       "    </tr>\n",
       "    <tr>\n",
       "      <th>9997</th>\n",
       "      <td>tom sounds mad</td>\n",
       "      <td>Tom klingt verrückt</td>\n",
       "    </tr>\n",
       "    <tr>\n",
       "      <th>9998</th>\n",
       "      <td>tom sounds sad</td>\n",
       "      <td>Tom klingt traurig</td>\n",
       "    </tr>\n",
       "    <tr>\n",
       "      <th>9999</th>\n",
       "      <td>tom stabbed me</td>\n",
       "      <td>Tom hat mich gestochen</td>\n",
       "    </tr>\n",
       "  </tbody>\n",
       "</table>\n",
       "<p>10000 rows × 2 columns</p>\n",
       "</div>"
      ],
      "text/plain": [
       "                 eng                      de\n",
       "0                 go                     Geh\n",
       "1                 hi                   Hallo\n",
       "2                 hi               Grüß Gott\n",
       "3                run                    Lauf\n",
       "4                run                    Lauf\n",
       "...              ...                     ...\n",
       "9995  tom smelled it    Tom hat das gerochen\n",
       "9996  tom smells bad     Tom riecht schlecht\n",
       "9997  tom sounds mad     Tom klingt verrückt\n",
       "9998  tom sounds sad      Tom klingt traurig\n",
       "9999  tom stabbed me  Tom hat mich gestochen\n",
       "\n",
       "[10000 rows x 2 columns]"
      ]
     },
     "execution_count": 46,
     "metadata": {},
     "output_type": "execute_result"
    }
   ],
   "source": [
    "lines"
   ]
  },
  {
   "cell_type": "code",
   "execution_count": 47,
   "metadata": {},
   "outputs": [
    {
     "name": "stderr",
     "output_type": "stream",
     "text": [
      "C:\\Users\\bhuwa\\anaconda3\\lib\\site-packages\\pandas\\core\\generic.py:5303: SettingWithCopyWarning: \n",
      "A value is trying to be set on a copy of a slice from a DataFrame.\n",
      "Try using .loc[row_indexer,col_indexer] = value instead\n",
      "\n",
      "See the caveats in the documentation: https://pandas.pydata.org/pandas-docs/stable/user_guide/indexing.html#returning-a-view-versus-a-copy\n",
      "  self[name] = value\n"
     ]
    }
   ],
   "source": [
    "# Add start and end tokens to target sequences\n",
    "lines.de = lines.de.apply(lambda x : 'START_ '+ x + ' _END')"
   ]
  },
  {
   "cell_type": "code",
   "execution_count": 48,
   "metadata": {},
   "outputs": [
    {
     "data": {
      "text/html": [
       "<div>\n",
       "<style scoped>\n",
       "    .dataframe tbody tr th:only-of-type {\n",
       "        vertical-align: middle;\n",
       "    }\n",
       "\n",
       "    .dataframe tbody tr th {\n",
       "        vertical-align: top;\n",
       "    }\n",
       "\n",
       "    .dataframe thead th {\n",
       "        text-align: right;\n",
       "    }\n",
       "</style>\n",
       "<table border=\"1\" class=\"dataframe\">\n",
       "  <thead>\n",
       "    <tr style=\"text-align: right;\">\n",
       "      <th></th>\n",
       "      <th>eng</th>\n",
       "      <th>de</th>\n",
       "    </tr>\n",
       "  </thead>\n",
       "  <tbody>\n",
       "    <tr>\n",
       "      <th>0</th>\n",
       "      <td>go</td>\n",
       "      <td>START_ Geh _END</td>\n",
       "    </tr>\n",
       "    <tr>\n",
       "      <th>1</th>\n",
       "      <td>hi</td>\n",
       "      <td>START_ Hallo _END</td>\n",
       "    </tr>\n",
       "    <tr>\n",
       "      <th>2</th>\n",
       "      <td>hi</td>\n",
       "      <td>START_ Grüß Gott _END</td>\n",
       "    </tr>\n",
       "    <tr>\n",
       "      <th>3</th>\n",
       "      <td>run</td>\n",
       "      <td>START_ Lauf _END</td>\n",
       "    </tr>\n",
       "    <tr>\n",
       "      <th>4</th>\n",
       "      <td>run</td>\n",
       "      <td>START_ Lauf _END</td>\n",
       "    </tr>\n",
       "    <tr>\n",
       "      <th>...</th>\n",
       "      <td>...</td>\n",
       "      <td>...</td>\n",
       "    </tr>\n",
       "    <tr>\n",
       "      <th>9995</th>\n",
       "      <td>tom smelled it</td>\n",
       "      <td>START_ Tom hat das gerochen _END</td>\n",
       "    </tr>\n",
       "    <tr>\n",
       "      <th>9996</th>\n",
       "      <td>tom smells bad</td>\n",
       "      <td>START_ Tom riecht schlecht _END</td>\n",
       "    </tr>\n",
       "    <tr>\n",
       "      <th>9997</th>\n",
       "      <td>tom sounds mad</td>\n",
       "      <td>START_ Tom klingt verrückt _END</td>\n",
       "    </tr>\n",
       "    <tr>\n",
       "      <th>9998</th>\n",
       "      <td>tom sounds sad</td>\n",
       "      <td>START_ Tom klingt traurig _END</td>\n",
       "    </tr>\n",
       "    <tr>\n",
       "      <th>9999</th>\n",
       "      <td>tom stabbed me</td>\n",
       "      <td>START_ Tom hat mich gestochen _END</td>\n",
       "    </tr>\n",
       "  </tbody>\n",
       "</table>\n",
       "<p>10000 rows × 2 columns</p>\n",
       "</div>"
      ],
      "text/plain": [
       "                 eng                                  de\n",
       "0                 go                     START_ Geh _END\n",
       "1                 hi                   START_ Hallo _END\n",
       "2                 hi               START_ Grüß Gott _END\n",
       "3                run                    START_ Lauf _END\n",
       "4                run                    START_ Lauf _END\n",
       "...              ...                                 ...\n",
       "9995  tom smelled it    START_ Tom hat das gerochen _END\n",
       "9996  tom smells bad     START_ Tom riecht schlecht _END\n",
       "9997  tom sounds mad     START_ Tom klingt verrückt _END\n",
       "9998  tom sounds sad      START_ Tom klingt traurig _END\n",
       "9999  tom stabbed me  START_ Tom hat mich gestochen _END\n",
       "\n",
       "[10000 rows x 2 columns]"
      ]
     },
     "execution_count": 48,
     "metadata": {},
     "output_type": "execute_result"
    }
   ],
   "source": [
    "lines"
   ]
  },
  {
   "cell_type": "code",
   "execution_count": 49,
   "metadata": {},
   "outputs": [],
   "source": [
    "# Vocabulary of English\n",
    "all_eng_words = set()\n",
    "for sentence in lines.eng:\n",
    "    for word in sentence.split():\n",
    "        if word not in all_eng_words:\n",
    "            all_eng_words.add(word)\n",
    "# Vocabulary of Deutsch\n",
    "all_de_words = set()\n",
    "for sentence in lines.de:\n",
    "    for word in sentence.split():\n",
    "        if word not in all_de_words:\n",
    "            all_de_words.add(word)"
   ]
  },
  {
   "cell_type": "code",
   "execution_count": 50,
   "metadata": {},
   "outputs": [
    {
     "data": {
      "text/plain": [
       "5"
      ]
     },
     "execution_count": 50,
     "metadata": {},
     "output_type": "execute_result"
    }
   ],
   "source": [
    "# Maximum length of source Sentence\n",
    "length_list = []\n",
    "for sentence in lines.eng:\n",
    "    length_list.append(len(sentence.split(' ')))\n",
    "max_length_src = np.max(length_list)\n",
    "max_length_src"
   ]
  },
  {
   "cell_type": "code",
   "execution_count": 51,
   "metadata": {},
   "outputs": [
    {
     "data": {
      "text/plain": [
       "11"
      ]
     },
     "execution_count": 51,
     "metadata": {},
     "output_type": "execute_result"
    }
   ],
   "source": [
    "# Maximum length of target Sentence\n",
    "length_list = []\n",
    "for sentence in lines.de:\n",
    "    length_list.append(len(sentence.split(' ')))\n",
    "max_length_target = np.max(length_list)\n",
    "max_length_target"
   ]
  },
  {
   "cell_type": "code",
   "execution_count": 52,
   "metadata": {},
   "outputs": [
    {
     "data": {
      "text/plain": [
       "(2248, 4072)"
      ]
     },
     "execution_count": 52,
     "metadata": {},
     "output_type": "execute_result"
    }
   ],
   "source": [
    "input_words = sorted(list(all_eng_words))\n",
    "target_words = sorted(list(all_de_words))\n",
    "num_encoder_tokens = len(all_eng_words)\n",
    "num_decoder_tokens = len(all_de_words)\n",
    "num_encoder_tokens, num_decoder_tokens"
   ]
  },
  {
   "cell_type": "code",
   "execution_count": 53,
   "metadata": {},
   "outputs": [
    {
     "data": {
      "text/plain": [
       "4073"
      ]
     },
     "execution_count": 53,
     "metadata": {},
     "output_type": "execute_result"
    }
   ],
   "source": [
    "num_decoder_tokens += 1 # For zero padding\n",
    "num_decoder_tokens"
   ]
  },
  {
   "cell_type": "code",
   "execution_count": 54,
   "metadata": {},
   "outputs": [],
   "source": [
    "input_token_index = dict([(word, i+1) for i, word in enumerate(input_words)])\n",
    "target_token_index = dict([(word, i+1) for i, word in enumerate(target_words)])"
   ]
  },
  {
   "cell_type": "code",
   "execution_count": 55,
   "metadata": {},
   "outputs": [],
   "source": [
    "reverse_input_char_index = dict((i, word) for word, i in input_token_index.items())\n",
    "reverse_target_char_index = dict((i, word) for word, i in target_token_index.items())"
   ]
  },
  {
   "cell_type": "code",
   "execution_count": 56,
   "metadata": {},
   "outputs": [
    {
     "data": {
      "text/html": [
       "<div>\n",
       "<style scoped>\n",
       "    .dataframe tbody tr th:only-of-type {\n",
       "        vertical-align: middle;\n",
       "    }\n",
       "\n",
       "    .dataframe tbody tr th {\n",
       "        vertical-align: top;\n",
       "    }\n",
       "\n",
       "    .dataframe thead th {\n",
       "        text-align: right;\n",
       "    }\n",
       "</style>\n",
       "<table border=\"1\" class=\"dataframe\">\n",
       "  <thead>\n",
       "    <tr style=\"text-align: right;\">\n",
       "      <th></th>\n",
       "      <th>eng</th>\n",
       "      <th>de</th>\n",
       "    </tr>\n",
       "  </thead>\n",
       "  <tbody>\n",
       "    <tr>\n",
       "      <th>9280</th>\n",
       "      <td>that was quick</td>\n",
       "      <td>START_ Das ging fix _END</td>\n",
       "    </tr>\n",
       "    <tr>\n",
       "      <th>6482</th>\n",
       "      <td>stop dreaming</td>\n",
       "      <td>START_ Hör auf zu träumen _END</td>\n",
       "    </tr>\n",
       "    <tr>\n",
       "      <th>2524</th>\n",
       "      <td>im selfish</td>\n",
       "      <td>START_ Ich bin selbstsüchtig _END</td>\n",
       "    </tr>\n",
       "    <tr>\n",
       "      <th>385</th>\n",
       "      <td>have fun</td>\n",
       "      <td>START_ Viel Vergnügen _END</td>\n",
       "    </tr>\n",
       "    <tr>\n",
       "      <th>1340</th>\n",
       "      <td>how absurd</td>\n",
       "      <td>START_ Wie absurd _END</td>\n",
       "    </tr>\n",
       "    <tr>\n",
       "      <th>3362</th>\n",
       "      <td>ask mary out</td>\n",
       "      <td>START_ Führe Maria aus _END</td>\n",
       "    </tr>\n",
       "    <tr>\n",
       "      <th>1309</th>\n",
       "      <td>he is busy</td>\n",
       "      <td>START_ Er ist beschäftigt _END</td>\n",
       "    </tr>\n",
       "    <tr>\n",
       "      <th>4152</th>\n",
       "      <td>its working</td>\n",
       "      <td>START_ Es funktioniert _END</td>\n",
       "    </tr>\n",
       "    <tr>\n",
       "      <th>1058</th>\n",
       "      <td>thats ok</td>\n",
       "      <td>START_ Das ist ok _END</td>\n",
       "    </tr>\n",
       "    <tr>\n",
       "      <th>8336</th>\n",
       "      <td>i promised tom</td>\n",
       "      <td>START_ Ich habe es Tom versprochen _END</td>\n",
       "    </tr>\n",
       "  </tbody>\n",
       "</table>\n",
       "</div>"
      ],
      "text/plain": [
       "                 eng                                       de\n",
       "9280  that was quick                 START_ Das ging fix _END\n",
       "6482   stop dreaming           START_ Hör auf zu träumen _END\n",
       "2524      im selfish        START_ Ich bin selbstsüchtig _END\n",
       "385         have fun               START_ Viel Vergnügen _END\n",
       "1340      how absurd                   START_ Wie absurd _END\n",
       "3362    ask mary out              START_ Führe Maria aus _END\n",
       "1309      he is busy           START_ Er ist beschäftigt _END\n",
       "4152     its working              START_ Es funktioniert _END\n",
       "1058        thats ok                   START_ Das ist ok _END\n",
       "8336  i promised tom  START_ Ich habe es Tom versprochen _END"
      ]
     },
     "execution_count": 56,
     "metadata": {},
     "output_type": "execute_result"
    }
   ],
   "source": [
    "lines = shuffle(lines)\n",
    "lines.head(10)"
   ]
  },
  {
   "cell_type": "code",
   "execution_count": 57,
   "metadata": {},
   "outputs": [
    {
     "data": {
      "text/plain": [
       "((9000,), (1000,))"
      ]
     },
     "execution_count": 57,
     "metadata": {},
     "output_type": "execute_result"
    }
   ],
   "source": [
    "# Train - Test Split in the ratio of 9:1\n",
    "X, y = lines.eng, lines.de\n",
    "X_train, X_test, y_train, y_test = train_test_split(X, y, test_size = 0.1)\n",
    "X_train.shape, X_test.shape"
   ]
  },
  {
   "cell_type": "markdown",
   "metadata": {},
   "source": [
    "Save the train and test dataframes for reproducing the results later, as they are shuffled."
   ]
  },
  {
   "cell_type": "code",
   "execution_count": 58,
   "metadata": {},
   "outputs": [],
   "source": [
    "X_train.to_pickle('deu-eng/X_train.pkl')\n",
    "X_test.to_pickle('deu-eng/X_test.pkl')"
   ]
  },
  {
   "cell_type": "code",
   "execution_count": 59,
   "metadata": {},
   "outputs": [],
   "source": [
    "#Generating the batch of data\n",
    "def generate_batch(X = X_train, y = y_train, batch_size = 128):\n",
    "    while True:\n",
    "        for j in range(0 , len(X), batch_size):\n",
    "            encoder_input_data = np.zeros((batch_size, max_length_src), dtype = 'float32')\n",
    "            decoder_input_data = np.zeros((batch_size, max_length_target), dtype = 'float32')\n",
    "            decoder_target_data = np.zeros((batch_size, max_length_target, num_decoder_tokens), dtype = 'float32')\n",
    "            for i, (input_text, target_text) in enumerate (zip(X[j:j+batch_size], y[j:j+batch_size])):\n",
    "                for t,word in enumerate (input_text.split()):\n",
    "                    encoder_input_data[i,t] = input_token_index[word] # encoder input seq\n",
    "                for t, word in enumerate (target_text.split()):\n",
    "                    if t<len(target_text.split())-1:\n",
    "                        decoder_input_data[i,t] = target_token_index[word] # decoder input seq\n",
    "                    if t>0:\n",
    "                        # decoder target sequence (one hot encoded)\n",
    "                        # does not include the START_ token\n",
    "                        # Offset by one timestep\n",
    "                        decoder_target_data[i, t - 1, target_token_index[word]] = 1.\n",
    "            yield([encoder_input_data, decoder_input_data], decoder_target_data)"
   ]
  },
  {
   "cell_type": "markdown",
   "metadata": {},
   "source": [
    "# Encoder - Decoder Model Architecture"
   ]
  },
  {
   "cell_type": "code",
   "execution_count": 60,
   "metadata": {},
   "outputs": [],
   "source": [
    "latent_dim = 256"
   ]
  },
  {
   "cell_type": "code",
   "execution_count": 67,
   "metadata": {},
   "outputs": [],
   "source": [
    "#Encoder\n",
    "encoder_inputs = Input(shape = (None,))\n",
    "encoder_embedded = Embedding(num_encoder_tokens+1, latent_dim, mask_zero=True)(encoder_inputs)\n",
    "encoder_lstm = LSTM(latent_dim, return_state = True)\n",
    "encoder_outputs, state_h, state_c = encoder_lstm(encoder_embedded)\n",
    "# We discard `encoder_outputs` and only keep the states.\n",
    "encoder_states = [state_h, state_c]"
   ]
  },
  {
   "cell_type": "code",
   "execution_count": 68,
   "metadata": {},
   "outputs": [],
   "source": [
    "#Decoder\n",
    "decoder_inputs = Input(shape=(None,))\n",
    "decoder_embedded_layer = Embedding(num_decoder_tokens+1, latent_dim, mask_zero = True)\n",
    "decoder_embedded = decoder_embedded_layer(decoder_inputs)\n",
    "# We set up our decoder to return full output sequences,\n",
    "# and to return internal states as well. We don't use the\n",
    "# return states in the training model, but we will use them in inference.\n",
    "decoder_lstm = LSTM(latent_dim, return_sequences = True, return_state = True)\n",
    "decoder_outputs, _,_ = decoder_lstm(decoder_embedded, initial_state = encoder_states)\n",
    "decoder_dense = Dense(num_decoder_tokens,activation = 'softmax')\n",
    "decoder_outputs = decoder_dense(decoder_outputs)\n",
    "\n",
    "# Define the model that will turn\n",
    "# `encoder_input_data` & `decoder_input_data` into `decoder_target_data`\n",
    "model = Model([encoder_inputs,decoder_inputs], decoder_outputs)"
   ]
  },
  {
   "cell_type": "code",
   "execution_count": 69,
   "metadata": {},
   "outputs": [],
   "source": [
    "model.compile(optimizer='rmsprop', loss='categorical_crossentropy', metrics=['acc'])"
   ]
  },
  {
   "cell_type": "code",
   "execution_count": 70,
   "metadata": {},
   "outputs": [],
   "source": [
    "train_samples = len(X_train)\n",
    "val_samples = len(X_test)\n",
    "batch_size = 128\n",
    "epochs = 50"
   ]
  },
  {
   "cell_type": "code",
   "execution_count": 71,
   "metadata": {},
   "outputs": [],
   "source": [
    "import time"
   ]
  },
  {
   "cell_type": "code",
   "execution_count": 72,
   "metadata": {},
   "outputs": [
    {
     "name": "stdout",
     "output_type": "stream",
     "text": [
      "Epoch 1/50\n",
      "70/70 [==============================] - 21s 294ms/step - loss: 2.0511 - acc: 0.2785 - val_loss: 1.8138 - val_acc: 0.3144\n",
      "Epoch 2/50\n",
      "70/70 [==============================] - 18s 262ms/step - loss: 1.6296 - acc: 0.3602 - val_loss: 1.6247 - val_acc: 0.3857\n",
      "Epoch 3/50\n",
      "70/70 [==============================] - 19s 264ms/step - loss: 1.4604 - acc: 0.4102 - val_loss: 1.5382 - val_acc: 0.4243\n",
      "Epoch 4/50\n",
      "70/70 [==============================] - 19s 265ms/step - loss: 1.3614 - acc: 0.4396 - val_loss: 1.4750 - val_acc: 0.4529\n",
      "Epoch 5/50\n",
      "70/70 [==============================] - 19s 265ms/step - loss: 1.2836 - acc: 0.4638 - val_loss: 1.4261 - val_acc: 0.4705\n",
      "Epoch 6/50\n",
      "70/70 [==============================] - 18s 264ms/step - loss: 1.2178 - acc: 0.4855 - val_loss: 1.3909 - val_acc: 0.4845\n",
      "Epoch 7/50\n",
      "70/70 [==============================] - 19s 265ms/step - loss: 1.1568 - acc: 0.5023 - val_loss: 1.3502 - val_acc: 0.4933\n",
      "Epoch 8/50\n",
      "70/70 [==============================] - 19s 270ms/step - loss: 1.0988 - acc: 0.5169 - val_loss: 1.3233 - val_acc: 0.5013\n",
      "Epoch 9/50\n",
      "70/70 [==============================] - 22s 309ms/step - loss: 1.0491 - acc: 0.5301 - val_loss: 1.2978 - val_acc: 0.5173\n",
      "Epoch 10/50\n",
      "70/70 [==============================] - 21s 298ms/step - loss: 0.9990 - acc: 0.5434 - val_loss: 1.2660 - val_acc: 0.5261\n",
      "Epoch 11/50\n",
      "70/70 [==============================] - 21s 295ms/step - loss: 0.9547 - acc: 0.5567 - val_loss: 1.2481 - val_acc: 0.5362\n",
      "Epoch 12/50\n",
      "70/70 [==============================] - 21s 301ms/step - loss: 0.9116 - acc: 0.5695 - val_loss: 1.2216 - val_acc: 0.5465\n",
      "Epoch 13/50\n",
      "70/70 [==============================] - 21s 303ms/step - loss: 0.8706 - acc: 0.5822 - val_loss: 1.2019 - val_acc: 0.5540\n",
      "Epoch 14/50\n",
      "70/70 [==============================] - 21s 296ms/step - loss: 0.8301 - acc: 0.5960 - val_loss: 1.1977 - val_acc: 0.5538\n",
      "Epoch 15/50\n",
      "70/70 [==============================] - 24s 337ms/step - loss: 0.7924 - acc: 0.6084 - val_loss: 1.1707 - val_acc: 0.5639\n",
      "Epoch 16/50\n",
      "70/70 [==============================] - 23s 335ms/step - loss: 0.7545 - acc: 0.6198 - val_loss: 1.1576 - val_acc: 0.5685\n",
      "Epoch 17/50\n",
      "70/70 [==============================] - 19s 277ms/step - loss: 0.7196 - acc: 0.6326 - val_loss: 1.1471 - val_acc: 0.5716\n",
      "Epoch 18/50\n",
      "70/70 [==============================] - 20s 280ms/step - loss: 0.6855 - acc: 0.6448 - val_loss: 1.1264 - val_acc: 0.5807\n",
      "Epoch 19/50\n",
      "70/70 [==============================] - 21s 295ms/step - loss: 0.6529 - acc: 0.6586 - val_loss: 1.1180 - val_acc: 0.5843\n",
      "Epoch 20/50\n",
      "70/70 [==============================] - 20s 286ms/step - loss: 0.6215 - acc: 0.6714 - val_loss: 1.1159 - val_acc: 0.5827\n",
      "Epoch 21/50\n",
      "70/70 [==============================] - 19s 270ms/step - loss: 0.5909 - acc: 0.6852 - val_loss: 1.1051 - val_acc: 0.5913\n",
      "Epoch 22/50\n",
      "70/70 [==============================] - 18s 263ms/step - loss: 0.5625 - acc: 0.6993 - val_loss: 1.0963 - val_acc: 0.5920\n",
      "Epoch 23/50\n",
      "70/70 [==============================] - 19s 265ms/step - loss: 0.5349 - acc: 0.7105 - val_loss: 1.0896 - val_acc: 0.5993\n",
      "Epoch 24/50\n",
      "70/70 [==============================] - 18s 262ms/step - loss: 0.5078 - acc: 0.7244 - val_loss: 1.0803 - val_acc: 0.6075\n",
      "Epoch 25/50\n",
      "70/70 [==============================] - 19s 271ms/step - loss: 0.4834 - acc: 0.7351 - val_loss: 1.0723 - val_acc: 0.6078\n",
      "Epoch 26/50\n",
      "70/70 [==============================] - 20s 291ms/step - loss: 0.4578 - acc: 0.7494 - val_loss: 1.0712 - val_acc: 0.6094\n",
      "Epoch 27/50\n",
      "70/70 [==============================] - 18s 261ms/step - loss: 0.4339 - acc: 0.7607 - val_loss: 1.0673 - val_acc: 0.6086\n",
      "Epoch 28/50\n",
      "70/70 [==============================] - 18s 262ms/step - loss: 0.4105 - acc: 0.7729 - val_loss: 1.0606 - val_acc: 0.6104\n",
      "Epoch 29/50\n",
      "70/70 [==============================] - 20s 279ms/step - loss: 0.3875 - acc: 0.7849 - val_loss: 1.0585 - val_acc: 0.6132\n",
      "Epoch 30/50\n",
      "70/70 [==============================] - 19s 267ms/step - loss: 0.3665 - acc: 0.7961 - val_loss: 1.0531 - val_acc: 0.6145\n",
      "Epoch 31/50\n",
      "70/70 [==============================] - 20s 287ms/step - loss: 0.3458 - acc: 0.8073 - val_loss: 1.0505 - val_acc: 0.6156\n",
      "Epoch 32/50\n",
      "70/70 [==============================] - 18s 261ms/step - loss: 0.3259 - acc: 0.8182 - val_loss: 1.0472 - val_acc: 0.6189\n",
      "Epoch 33/50\n",
      "70/70 [==============================] - 18s 257ms/step - loss: 0.3070 - acc: 0.8295 - val_loss: 1.0461 - val_acc: 0.6205\n",
      "Epoch 34/50\n",
      "70/70 [==============================] - 18s 259ms/step - loss: 0.2896 - acc: 0.8394 - val_loss: 1.0603 - val_acc: 0.6132\n",
      "Epoch 35/50\n",
      "70/70 [==============================] - 18s 259ms/step - loss: 0.2718 - acc: 0.8501 - val_loss: 1.0546 - val_acc: 0.6179\n",
      "Epoch 36/50\n",
      "70/70 [==============================] - 18s 258ms/step - loss: 0.2561 - acc: 0.8581 - val_loss: 1.0478 - val_acc: 0.6228\n",
      "Epoch 37/50\n",
      "70/70 [==============================] - 18s 260ms/step - loss: 0.2408 - acc: 0.8672 - val_loss: 1.0568 - val_acc: 0.6140\n",
      "Epoch 38/50\n",
      "70/70 [==============================] - 18s 258ms/step - loss: 0.2266 - acc: 0.8757 - val_loss: 1.0536 - val_acc: 0.6161\n",
      "Epoch 39/50\n",
      "70/70 [==============================] - 18s 259ms/step - loss: 0.2131 - acc: 0.8826 - val_loss: 1.0478 - val_acc: 0.6236\n",
      "Epoch 40/50\n",
      "70/70 [==============================] - 18s 260ms/step - loss: 0.1992 - acc: 0.8893 - val_loss: 1.0473 - val_acc: 0.6264\n",
      "Epoch 41/50\n",
      "70/70 [==============================] - 18s 258ms/step - loss: 0.1873 - acc: 0.8956 - val_loss: 1.0471 - val_acc: 0.6313\n",
      "Epoch 42/50\n",
      "70/70 [==============================] - 18s 260ms/step - loss: 0.1761 - acc: 0.9023 - val_loss: 1.0549 - val_acc: 0.6254\n",
      "Epoch 43/50\n",
      "70/70 [==============================] - 19s 265ms/step - loss: 0.1651 - acc: 0.9078 - val_loss: 1.0640 - val_acc: 0.6213\n",
      "Epoch 44/50\n",
      "70/70 [==============================] - 18s 258ms/step - loss: 0.1558 - acc: 0.9116 - val_loss: 1.0629 - val_acc: 0.6194\n",
      "Epoch 45/50\n",
      "70/70 [==============================] - 19s 268ms/step - loss: 0.1467 - acc: 0.9153 - val_loss: 1.0631 - val_acc: 0.6194\n",
      "Epoch 46/50\n",
      "70/70 [==============================] - 19s 267ms/step - loss: 0.1385 - acc: 0.9193 - val_loss: 1.0721 - val_acc: 0.6179\n",
      "Epoch 47/50\n",
      "70/70 [==============================] - 19s 268ms/step - loss: 0.1304 - acc: 0.9229 - val_loss: 1.0874 - val_acc: 0.6122\n",
      "Epoch 48/50\n",
      "70/70 [==============================] - 19s 273ms/step - loss: 0.1230 - acc: 0.9251 - val_loss: 1.0873 - val_acc: 0.6114\n",
      "Epoch 49/50\n",
      "70/70 [==============================] - 19s 267ms/step - loss: 0.1160 - acc: 0.9282 - val_loss: 1.0846 - val_acc: 0.6125\n",
      "Epoch 50/50\n",
      "70/70 [==============================] - 18s 258ms/step - loss: 0.1098 - acc: 0.9305 - val_loss: 1.0889 - val_acc: 0.6135\n",
      "Wall time: 16min 19s\n"
     ]
    },
    {
     "data": {
      "text/plain": [
       "<tensorflow.python.keras.callbacks.History at 0x18dcb07ea90>"
      ]
     },
     "execution_count": 72,
     "metadata": {},
     "output_type": "execute_result"
    }
   ],
   "source": [
    "%%time\n",
    "model.fit_generator(generator = generate_batch(X_train, y_train, batch_size = batch_size),\n",
    "                    steps_per_epoch = train_samples//batch_size,\n",
    "                    epochs=epochs,\n",
    "                    validation_data = generate_batch(X_test, y_test, batch_size = batch_size),\n",
    "                    validation_steps = val_samples//batch_size)"
   ]
  },
  {
   "cell_type": "markdown",
   "metadata": {},
   "source": [
    "# Saving the weights"
   ]
  },
  {
   "cell_type": "code",
   "execution_count": 74,
   "metadata": {},
   "outputs": [],
   "source": [
    "model.save_weights('deu-eng/nmt_weights.h5')"
   ]
  },
  {
   "cell_type": "markdown",
   "metadata": {},
   "source": [
    "# Load the weights"
   ]
  },
  {
   "cell_type": "code",
   "execution_count": 75,
   "metadata": {},
   "outputs": [],
   "source": [
    "model.load_weights('deu-eng/nmt_weights.h5')"
   ]
  },
  {
   "cell_type": "markdown",
   "metadata": {},
   "source": [
    "# Inference Setup"
   ]
  },
  {
   "cell_type": "code",
   "execution_count": 76,
   "metadata": {},
   "outputs": [],
   "source": [
    "# Encode the input sequence to get the \"thought vectors\"\n",
    "encoder_model = Model(encoder_inputs, encoder_states)\n",
    "\n",
    "# Decoder setup\n",
    "# Below tensors will hold the states of the previous time step\n",
    "decoder_state_input_h = Input(shape=(latent_dim,))\n",
    "decoder_state_input_c = Input(shape=(latent_dim,))\n",
    "decoder_states_inputs = [decoder_state_input_h, decoder_state_input_c]\n",
    "\n",
    "dec_emb2= decoder_embedded_layer(decoder_inputs) # Get the embeddings of the decoder sequence\n",
    "\n",
    "# To predict the next word in the sequence, set the initial states to the states from the previous time step\n",
    "decoder_outputs2, state_h2, state_c2 = decoder_lstm(dec_emb2, initial_state=decoder_states_inputs)\n",
    "decoder_states2 = [state_h2, state_c2]\n",
    "decoder_outputs2 = decoder_dense(decoder_outputs2) # A dense softmax layer to generate prob dist. over the target vocabulary\n",
    "\n",
    "# Final decoder model\n",
    "decoder_model = Model(\n",
    "    [decoder_inputs] + decoder_states_inputs,\n",
    "    [decoder_outputs2] + decoder_states2)"
   ]
  },
  {
   "cell_type": "markdown",
   "metadata": {},
   "source": [
    "# Decode sample sequeces"
   ]
  },
  {
   "cell_type": "code",
   "execution_count": 77,
   "metadata": {},
   "outputs": [],
   "source": [
    "\n",
    "def decode_sequence(input_seq):\n",
    "    # Encode the input as state vectors.\n",
    "    states_value = encoder_model.predict(input_seq)\n",
    "    # Generate empty target sequence of length 1.\n",
    "    target_seq = np.zeros((1,1))\n",
    "    # Populate the first character of target sequence with the start character.\n",
    "    target_seq[0, 0] = target_token_index['START_']\n",
    "\n",
    "    # Sampling loop for a batch of sequences\n",
    "    # (to simplify, here we assume a batch of size 1).\n",
    "    stop_condition = False\n",
    "    decoded_sentence = ''\n",
    "    while not stop_condition:\n",
    "        output_tokens, h, c = decoder_model.predict([target_seq] + states_value)\n",
    "\n",
    "        # Sample a token\n",
    "        sampled_token_index = np.argmax(output_tokens[0, -1, :])\n",
    "        sampled_char = reverse_target_char_index[sampled_token_index]\n",
    "        decoded_sentence += ' '+sampled_char\n",
    "\n",
    "        # Exit condition: either hit max length\n",
    "        # or find stop character.\n",
    "        if (sampled_char == '_END' or\n",
    "           len(decoded_sentence) > 50):\n",
    "            stop_condition = True\n",
    "\n",
    "        # Update the target sequence (of length 1).\n",
    "        target_seq = np.zeros((1,1))\n",
    "        target_seq[0, 0] = sampled_token_index\n",
    "\n",
    "        # Update states\n",
    "        states_value = [h, c]\n",
    "\n",
    "    return decoded_sentence"
   ]
  },
  {
   "cell_type": "markdown",
   "metadata": {},
   "source": [
    "# Evaluation on Train Dataset"
   ]
  },
  {
   "cell_type": "code",
   "execution_count": 78,
   "metadata": {},
   "outputs": [],
   "source": [
    "train_gen = generate_batch(X_train, y_train, batch_size = 1)\n",
    "k=-1"
   ]
  },
  {
   "cell_type": "code",
   "execution_count": 79,
   "metadata": {},
   "outputs": [
    {
     "name": "stdout",
     "output_type": "stream",
     "text": [
      "Input English sentence: ill tell tom\n",
      "Actual Marathi Translation:  Ich werde es Tom sagen \n",
      "Predicted Marathi Translation:  Ich sags Tom \n"
     ]
    }
   ],
   "source": [
    "\n",
    "k+=1\n",
    "(input_seq, actual_output), _ = next(train_gen)\n",
    "decoded_sentence = decode_sequence(input_seq)\n",
    "print('Input English sentence:', X_train[k:k+1].values[0])\n",
    "print('Actual Marathi Translation:', y_train[k:k+1].values[0][6:-4])\n",
    "print('Predicted Marathi Translation:', decoded_sentence[:-4])"
   ]
  },
  {
   "cell_type": "code",
   "execution_count": 80,
   "metadata": {},
   "outputs": [
    {
     "name": "stdout",
     "output_type": "stream",
     "text": [
      "Input English sentence: im sick\n",
      "Actual Marathi Translation:  Ich bin krank \n",
      "Predicted Marathi Translation:  Ich bin krank \n"
     ]
    }
   ],
   "source": [
    "k+=1\n",
    "(input_seq, actual_output), _ = next(train_gen)\n",
    "decoded_sentence = decode_sequence(input_seq)\n",
    "print('Input English sentence:', X_train[k:k+1].values[0])\n",
    "print('Actual Marathi Translation:', y_train[k:k+1].values[0][6:-4])\n",
    "print('Predicted Marathi Translation:', decoded_sentence[:-4])"
   ]
  },
  {
   "cell_type": "code",
   "execution_count": 81,
   "metadata": {},
   "outputs": [
    {
     "name": "stdout",
     "output_type": "stream",
     "text": [
      "Input English sentence: im through\n",
      "Actual Marathi Translation:  Ich bin damit durch \n",
      "Predicted Marathi Translation:  Ich bin damit \n"
     ]
    }
   ],
   "source": [
    "k+=1\n",
    "(input_seq, actual_output), _ = next(train_gen)\n",
    "decoded_sentence = decode_sequence(input_seq)\n",
    "print('Input English sentence:', X_train[k:k+1].values[0])\n",
    "print('Actual Marathi Translation:', y_train[k:k+1].values[0][6:-4])\n",
    "print('Predicted Marathi Translation:', decoded_sentence[:-4])"
   ]
  },
  {
   "cell_type": "code",
   "execution_count": 82,
   "metadata": {},
   "outputs": [
    {
     "name": "stdout",
     "output_type": "stream",
     "text": [
      "Input English sentence: tom was late\n",
      "Actual Marathi Translation:  Tom kam zu spät \n",
      "Predicted Marathi Translation:  Tom war früh \n"
     ]
    }
   ],
   "source": [
    "k+=1\n",
    "(input_seq, actual_output), _ = next(train_gen)\n",
    "decoded_sentence = decode_sequence(input_seq)\n",
    "print('Input English sentence:', X_train[k:k+1].values[0])\n",
    "print('Actual Marathi Translation:', y_train[k:k+1].values[0][6:-4])\n",
    "print('Predicted Marathi Translation:', decoded_sentence[:-4])"
   ]
  },
  {
   "cell_type": "code",
   "execution_count": 83,
   "metadata": {},
   "outputs": [
    {
     "name": "stdout",
     "output_type": "stream",
     "text": [
      "Input English sentence: use caution\n",
      "Actual Marathi Translation:  Lassen Sie Vorsicht walten \n",
      "Predicted Marathi Translation:  Lasst Vorsicht walten \n"
     ]
    }
   ],
   "source": [
    "k+=1\n",
    "(input_seq, actual_output), _ = next(train_gen)\n",
    "decoded_sentence = decode_sequence(input_seq)\n",
    "print('Input English sentence:', X_train[k:k+1].values[0])\n",
    "print('Actual Marathi Translation:', y_train[k:k+1].values[0][6:-4])\n",
    "print('Predicted Marathi Translation:', decoded_sentence[:-4])"
   ]
  },
  {
   "cell_type": "markdown",
   "metadata": {},
   "source": [
    "# Evaluation on Validation Dataset"
   ]
  },
  {
   "cell_type": "code",
   "execution_count": 84,
   "metadata": {},
   "outputs": [],
   "source": [
    "val_gen = generate_batch(X_test, y_test, batch_size = 1)\n",
    "k=-1"
   ]
  },
  {
   "cell_type": "code",
   "execution_count": 85,
   "metadata": {},
   "outputs": [
    {
     "name": "stdout",
     "output_type": "stream",
     "text": [
      "Input English sentence: have fun\n",
      "Actual Marathi Translation:  Viel Spaß \n",
      "Predicted Marathi Translation:  Viel Vergnügen \n"
     ]
    }
   ],
   "source": [
    "k+=1\n",
    "(input_seq, actual_output), _ = next(val_gen)\n",
    "decoded_sentence = decode_sequence(input_seq)\n",
    "print('Input English sentence:', X_test[k:k+1].values[0])\n",
    "print('Actual Marathi Translation:', y_test[k:k+1].values[0][6:-4])\n",
    "print('Predicted Marathi Translation:', decoded_sentence[:-4])"
   ]
  },
  {
   "cell_type": "code",
   "execution_count": 86,
   "metadata": {},
   "outputs": [
    {
     "name": "stdout",
     "output_type": "stream",
     "text": [
      "Input English sentence: may i begin\n",
      "Actual Marathi Translation:  Darf ich anfangen \n",
      "Predicted Marathi Translation:  Darf ich zuerst \n"
     ]
    }
   ],
   "source": [
    "k+=1\n",
    "(input_seq, actual_output), _ = next(val_gen)\n",
    "decoded_sentence = decode_sequence(input_seq)\n",
    "print('Input English sentence:', X_test[k:k+1].values[0])\n",
    "print('Actual Marathi Translation:', y_test[k:k+1].values[0][6:-4])\n",
    "print('Predicted Marathi Translation:', decoded_sentence[:-4])"
   ]
  },
  {
   "cell_type": "code",
   "execution_count": 87,
   "metadata": {},
   "outputs": [
    {
     "name": "stdout",
     "output_type": "stream",
     "text": [
      "Input English sentence: its too easy\n",
      "Actual Marathi Translation:  Es ist zu leicht \n",
      "Predicted Marathi Translation:  Das ist zu leicht \n"
     ]
    }
   ],
   "source": [
    "\n",
    "k+=1\n",
    "(input_seq, actual_output), _ = next(val_gen)\n",
    "decoded_sentence = decode_sequence(input_seq)\n",
    "print('Input English sentence:', X_test[k:k+1].values[0])\n",
    "print('Actual Marathi Translation:', y_test[k:k+1].values[0][6:-4])\n",
    "print('Predicted Marathi Translation:', decoded_sentence[:-4])"
   ]
  },
  {
   "cell_type": "code",
   "execution_count": 88,
   "metadata": {},
   "outputs": [
    {
     "name": "stdout",
     "output_type": "stream",
     "text": [
      "Input English sentence: are you new\n",
      "Actual Marathi Translation:  Bist du neu \n",
      "Predicted Marathi Translation:  Bist du neu \n"
     ]
    }
   ],
   "source": [
    "k+=1\n",
    "(input_seq, actual_output), _ = next(val_gen)\n",
    "decoded_sentence = decode_sequence(input_seq)\n",
    "print('Input English sentence:', X_test[k:k+1].values[0])\n",
    "print('Actual Marathi Translation:', y_test[k:k+1].values[0][6:-4])\n",
    "print('Predicted Marathi Translation:', decoded_sentence[:-4])"
   ]
  },
  {
   "cell_type": "code",
   "execution_count": null,
   "metadata": {},
   "outputs": [],
   "source": []
  },
  {
   "cell_type": "code",
   "execution_count": null,
   "metadata": {},
   "outputs": [],
   "source": []
  },
  {
   "cell_type": "code",
   "execution_count": null,
   "metadata": {},
   "outputs": [],
   "source": []
  }
 ],
 "metadata": {
  "kernelspec": {
   "display_name": "Python 3",
   "language": "python",
   "name": "python3"
  },
  "language_info": {
   "codemirror_mode": {
    "name": "ipython",
    "version": 3
   },
   "file_extension": ".py",
   "mimetype": "text/x-python",
   "name": "python",
   "nbconvert_exporter": "python",
   "pygments_lexer": "ipython3",
   "version": "3.8.3"
  }
 },
 "nbformat": 4,
 "nbformat_minor": 4
}
